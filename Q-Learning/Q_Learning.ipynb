{
  "cells": [
    {
      "cell_type": "markdown",
      "metadata": {
        "id": "UFvzXqZGotei"
      },
      "source": [
        "# Solving Frozen Lake Problem Using Q-Learning"
      ]
    },
    {
      "cell_type": "markdown",
      "source": [
        "https://www.gymlibrary.dev/environments/toy_text/frozen_lake/"
      ],
      "metadata": {
        "id": "PkCGeK-ndNdK"
      }
    },
    {
      "cell_type": "markdown",
      "metadata": {
        "id": "R9I7u_f0otej"
      },
      "source": [
        "## Goal:\n",
        "\n",
        "Imagine, there is a frozen lake from your home to office, you should walk on the frozen lake\n",
        "to reach your office. But oops! there will be a hole in the frozen lake in between, so you have\n",
        "to be careful while walking in the frozen lake to avoid getting trapped at holes.\n",
        "Look at the below figure where,\n",
        "\n",
        "1. S is the starting position (Home)\n",
        "2. F is the Frozen lake where you can walk\n",
        "3. H is the Hole which you have to be so careful about\n",
        "4. G is the Goal (office)\n",
        "\n",
        "**Actions:** Move in one of four directions: Left (0), Down (1), Right (2), Up (3)\n",
        "\n",
        "**States:** Each grid cell is a state, indexed by its position.\n",
        "\n",
        "**Rewards:**\n",
        "\n",
        "+1 for reaching the goal\n",
        "0 otherwise (including falling into a hole)"
      ]
    },
    {
      "cell_type": "markdown",
      "source": [
        "Each cell in this grid is assigned a state number from 0 to 15, laid out row-wise:\n",
        "\n",
        " 0   1   2   3  \n",
        "\n",
        " 4   5   6   7  \n",
        "\n",
        " 8   9  10  11  \n",
        "\n",
        "12  13  14  15  "
      ],
      "metadata": {
        "id": "ucbFCO6YTxWi"
      }
    },
    {
      "cell_type": "markdown",
      "metadata": {
        "id": "eYD3NLL-otek"
      },
      "source": [
        " Okay, now let us use our agent instead of you to find the correct way to reach the office.\n",
        "The agent goal is to find the optimal path to reach from S to G without getting trapped at H.\n",
        "How an agent can achieve this? We give +1 point as a reward to the agent if it correctly\n",
        "walks on the frozen lake and 0 points if it falls into the hole. So that agent could determine\n",
        "which is the right action. An agent will now try to find the optimal policy. Optimal policy\n",
        "implies taking the correct path which maximizes the agent reward. If the agent is\n",
        "maximizing the reward, apparently agent is learning to skip the hole and reach the\n",
        "destination."
      ]
    },
    {
      "cell_type": "markdown",
      "metadata": {
        "id": "GMVZi4qhotek"
      },
      "source": [
        "First, we import necessary libraries"
      ]
    },
    {
      "cell_type": "code",
      "source": [
        "# this gym version works without any issues\n",
        "pip install gym==0.17.3"
      ],
      "metadata": {
        "id": "Pb5_dau0vgjt"
      },
      "execution_count": null,
      "outputs": []
    },
    {
      "cell_type": "code",
      "execution_count": null,
      "metadata": {
        "collapsed": true,
        "id": "OOpbIOQ2otek"
      },
      "outputs": [],
      "source": [
        "import gym\n",
        "import numpy as np"
      ]
    },
    {
      "cell_type": "markdown",
      "metadata": {
        "id": "JXpZQwSpotel"
      },
      "source": [
        "Initialize our gym environment"
      ]
    },
    {
      "cell_type": "code",
      "execution_count": null,
      "metadata": {
        "id": "QGkSEUl9otel"
      },
      "outputs": [],
      "source": [
        "# Stochastic\n",
        "# env = gym.make('FrozenLake-v0', is_slippery=True)"
      ]
    },
    {
      "cell_type": "markdown",
      "source": [],
      "metadata": {
        "id": "pU4b7zy1vvrG"
      }
    },
    {
      "cell_type": "markdown",
      "metadata": {
        "id": "ed7wHctpotel"
      },
      "source": [
        " Let us see how the environment looks like"
      ]
    },
    {
      "cell_type": "code",
      "source": [
        "# deterministic\n",
        "env = gym.make('FrozenLake-v0', is_slippery=False)"
      ],
      "metadata": {
        "id": "Z8cB0g14bW7K"
      },
      "execution_count": null,
      "outputs": []
    },
    {
      "cell_type": "code",
      "source": [
        "action_space_size = env.action_space.n\n",
        "state_space_size = env.observation_space.n"
      ],
      "metadata": {
        "id": "vqdpfwy3iLaL"
      },
      "execution_count": null,
      "outputs": []
    },
    {
      "cell_type": "code",
      "source": [
        "# we have total 4 actions, left-right-up-down\n",
        "action_space_size"
      ],
      "metadata": {
        "colab": {
          "base_uri": "https://localhost:8080/"
        },
        "id": "l0sSGFpviXYD",
        "outputId": "ebc170f6-7bd2-4e6a-dcdd-660e67a7335a"
      },
      "execution_count": null,
      "outputs": [
        {
          "output_type": "execute_result",
          "data": {
            "text/plain": [
              "4"
            ]
          },
          "metadata": {},
          "execution_count": 11
        }
      ]
    },
    {
      "cell_type": "code",
      "source": [
        "# we have total 16 states\n",
        "state_space_size"
      ],
      "metadata": {
        "colab": {
          "base_uri": "https://localhost:8080/"
        },
        "id": "e5gkxKhvjJU7",
        "outputId": "43ec18ba-e3c6-4c91-c2d1-49ca22d9c1ba"
      },
      "execution_count": null,
      "outputs": [
        {
          "output_type": "execute_result",
          "data": {
            "text/plain": [
              "16"
            ]
          },
          "metadata": {},
          "execution_count": 12
        }
      ]
    },
    {
      "cell_type": "code",
      "source": [
        "# Lets initialize the Q-table\n",
        "q_table = np.zeros((state_space_size, action_space_size))\n",
        "q_table"
      ],
      "metadata": {
        "colab": {
          "base_uri": "https://localhost:8080/"
        },
        "id": "9ncpwm30jPFL",
        "outputId": "fbb6e01a-b5b4-4127-dc37-aba2e719cb46"
      },
      "execution_count": null,
      "outputs": [
        {
          "output_type": "execute_result",
          "data": {
            "text/plain": [
              "array([[0., 0., 0., 0.],\n",
              "       [0., 0., 0., 0.],\n",
              "       [0., 0., 0., 0.],\n",
              "       [0., 0., 0., 0.],\n",
              "       [0., 0., 0., 0.],\n",
              "       [0., 0., 0., 0.],\n",
              "       [0., 0., 0., 0.],\n",
              "       [0., 0., 0., 0.],\n",
              "       [0., 0., 0., 0.],\n",
              "       [0., 0., 0., 0.],\n",
              "       [0., 0., 0., 0.],\n",
              "       [0., 0., 0., 0.],\n",
              "       [0., 0., 0., 0.],\n",
              "       [0., 0., 0., 0.],\n",
              "       [0., 0., 0., 0.],\n",
              "       [0., 0., 0., 0.]])"
            ]
          },
          "metadata": {},
          "execution_count": 4
        }
      ]
    },
    {
      "cell_type": "markdown",
      "source": [
        "**Structure of the Q-table:**\n",
        "\n",
        "**Rows**: Represent the states of the environment.\n",
        "\n",
        "**Columns**: Represent the possible actions an agent can take in each state.\n",
        "\n",
        "**Entries**: The values (Q-values) in the table represent the expected cumulative reward of taking a particular action in a specific state and following the optimal policy afterward.\n"
      ],
      "metadata": {
        "id": "F8zv1Hknk1An"
      }
    },
    {
      "cell_type": "markdown",
      "source": [
        "### Q-value Update Rule in Q-learning\n",
        "\n",
        "The Q-value for a state-action pair \\((s, a)\\) is updated iteratively using the formula:\n",
        "\n",
        "![Screenshot 2025-01-19 at 5.24.59 PM.png](data:image/png;base64,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)\n",
        "\n",
        "Where:\n",
        "- \\(s\\): Current state\n",
        "- \\(a\\): Action taken\n",
        "- \\(r\\): Reward received\n",
        "- \\(s'\\): Next state\n",
        "- \\(alpha): Learning rate (how quickly the agent updates its knowledge)\n",
        "- \\(gamma): Discount factor (importance of future rewards)\n",
        "- \\(max_a Q(s', a)\\): Maximum Q-value for the next state \\(s'\\), considering all possible actions\n"
      ],
      "metadata": {
        "id": "6-HuNY0eqtDP"
      }
    },
    {
      "cell_type": "code",
      "source": [
        "# Let's initiate hyperparameters\n",
        "total_episodes = 10000\n",
        "max_steps = 100\n",
        "learning_rate = 0.8\n",
        "gamma = 0.99\n",
        "epsilon = 1.0\n",
        "max_epsilon = 1.0\n",
        "min_epsilon = 0.0\n",
        "decay_rate = 0.001"
      ],
      "metadata": {
        "id": "1GaYQkKUnTFI"
      },
      "execution_count": null,
      "outputs": []
    },
    {
      "cell_type": "markdown",
      "source": [
        "### Explanation of Q-learning Hyperparameters\n",
        "\n",
        "1. **`total_episodes`**:  \n",
        "   - The total number of episodes (iterations) the agent will run in the environment.  \n",
        "   - Higher values allow the agent to explore and learn more thoroughly.\n",
        "\n",
        "2. **`max_steps`**:  \n",
        "   - The maximum number of steps the agent can take in a single episode.  \n",
        "   - Prevents episodes from running indefinitely and helps in controlling computation time.\n",
        "\n",
        "3. **`learning_rate`** (alpha):  \n",
        "   - Determines how quickly the agent updates the Q-values.  \n",
        "   - A value closer to 1 prioritizes recent experiences, while a smaller value gives more weight to prior knowledge.\n",
        "\n",
        "4. **`gamma`** (gamma):  \n",
        "   - The discount factor, which balances the importance of immediate rewards versus future rewards.  \n",
        "   - A value close to 1 emphasizes long-term rewards, while a value near 0 focuses on immediate rewards.\n",
        "\n",
        "5. **`epsilon`**:  \n",
        "   - The exploration rate at the start, controlling the agent's likelihood of exploring vs. exploiting.  \n",
        "   - Higher values mean more exploration.\n",
        "\n",
        "6. **`decay_rate`**:  \n",
        "   - Controls the rate at which \\( \\epsilon \\) decreases during training.  \n",
        "   - A smaller value results in slower decay, allowing the agent to explore for a longer duration.\n"
      ],
      "metadata": {
        "id": "6KLzPLHArb-Y"
      }
    },
    {
      "cell_type": "code",
      "source": [
        "rewards = []\n",
        "\n",
        "for episode in range(total_episodes):\n",
        "    state = env.reset()\n",
        "    step = 0\n",
        "    done = False\n",
        "    total_rewards = 0\n",
        "\n",
        "    for step in range(max_steps):\n",
        "      if np.random.uniform(0, 1) > epsilon:\n",
        "        action = np.argmax(q_table[state, :]) #Exploit\n",
        "      else:\n",
        "        action = env.action_space.sample() #Explore\n",
        "\n",
        "      new_state, reward, done, info = env.step(action)\n",
        "      max_new_state = np.max(q_table[new_state, :])\n",
        "      q_table[state, action] = q_table[state, action] + learning_rate * (reward + gamma * np.max(q_table[new_state, :]) - q_table[state, action])\n",
        "      total_rewards += reward\n",
        "      state = new_state\n",
        "\n",
        "      if done:\n",
        "        break\n",
        "\n",
        "    epsilon = min_epsilon + (max_epsilon - min_epsilon) * np.exp(-decay_rate * episode)\n",
        "    rewards.append(total_rewards)\n",
        "\n",
        "print(\"Score over time: \" + str(sum(rewards) / total_episodes))\n",
        "\n",
        "# Close the environment\n",
        "env.close()"
      ],
      "metadata": {
        "colab": {
          "base_uri": "https://localhost:8080/"
        },
        "id": "dwkwiQColQtQ",
        "outputId": "65a497e8-a390-43cb-a853-8f55b01dcebf"
      },
      "execution_count": null,
      "outputs": [
        {
          "output_type": "stream",
          "name": "stdout",
          "text": [
            "Score over time: 0.89\n"
          ]
        }
      ]
    },
    {
      "cell_type": "code",
      "source": [
        "# Now lets analyze the Q-table\n",
        "print(q_table)"
      ],
      "metadata": {
        "colab": {
          "base_uri": "https://localhost:8080/"
        },
        "id": "MnbVCQf7iEwN",
        "outputId": "c3a152fb-8891-449d-b976-8034b5283f14"
      },
      "execution_count": null,
      "outputs": [
        {
          "output_type": "stream",
          "name": "stdout",
          "text": [
            "[[0.94148015 0.95099005 0.95099005 0.94148015]\n",
            " [0.94148015 0.         0.96059601 0.95099005]\n",
            " [0.95099005 0.970299   0.95099005 0.96059601]\n",
            " [0.96059601 0.         0.95002234 0.95081987]\n",
            " [0.95099005 0.96059601 0.         0.94148015]\n",
            " [0.         0.         0.         0.        ]\n",
            " [0.         0.9801     0.         0.96059601]\n",
            " [0.         0.         0.         0.        ]\n",
            " [0.96059601 0.         0.970299   0.95099005]\n",
            " [0.96059601 0.9801     0.9801     0.        ]\n",
            " [0.970299   0.99       0.         0.970299  ]\n",
            " [0.         0.         0.         0.        ]\n",
            " [0.         0.         0.         0.        ]\n",
            " [0.         0.9801     0.99       0.970299  ]\n",
            " [0.9801     0.99       1.         0.9801    ]\n",
            " [0.         0.         0.         0.        ]]\n"
          ]
        }
      ]
    },
    {
      "cell_type": "markdown",
      "source": [
        "\n"
      ],
      "metadata": {
        "id": "ig3OrgluTjC0"
      }
    },
    {
      "cell_type": "markdown",
      "source": [
        "This is how the actions are indexed in the Q-table:\n",
        "\n",
        "* index 0 = Left\n",
        "* index 1 = Down\n",
        "* index 2 = Right\n",
        "* index 3 = Up"
      ],
      "metadata": {
        "id": "jWyoaZoQscvL"
      }
    },
    {
      "cell_type": "code",
      "source": [
        "# Let the agent play using the Q-table\n",
        "# Let the agent play using the Q-table\n",
        "for episode in range(5):\n",
        "    state = env.reset()  # No need to unpack\n",
        "    step = 0\n",
        "    done = False\n",
        "\n",
        "    print(\"****************************************************\")\n",
        "    print(\"EPISODE \", episode)\n",
        "\n",
        "    for step in range(max_steps):\n",
        "        # Choose the action with the highest Q-value\n",
        "        action = np.argmax(q_table[state, :])\n",
        "\n",
        "        # Take the action and observe the result\n",
        "        new_state, reward, done, info = env.step(action)\n",
        "\n",
        "        # Render the environment\n",
        "        env.render(mode=\"human\")\n",
        "\n",
        "        if done:\n",
        "            print(\"Number of steps:\", step)\n",
        "            break\n",
        "\n",
        "        state = new_state\n",
        "\n",
        "# Close the environment\n",
        "env.close()"
      ],
      "metadata": {
        "colab": {
          "base_uri": "https://localhost:8080/"
        },
        "id": "tmgKc8U9u3wR",
        "outputId": "5c3b3171-4a4e-48fc-d463-941620e8712f"
      },
      "execution_count": null,
      "outputs": [
        {
          "output_type": "stream",
          "name": "stdout",
          "text": [
            "****************************************************\n",
            "EPISODE  0\n",
            "  (Down)\n",
            "SFFF\n",
            "\u001b[41mF\u001b[0mHFH\n",
            "FFFH\n",
            "HFFG\n",
            "  (Down)\n",
            "SFFF\n",
            "FHFH\n",
            "\u001b[41mF\u001b[0mFFH\n",
            "HFFG\n",
            "  (Right)\n",
            "SFFF\n",
            "FHFH\n",
            "F\u001b[41mF\u001b[0mFH\n",
            "HFFG\n",
            "  (Down)\n",
            "SFFF\n",
            "FHFH\n",
            "FFFH\n",
            "H\u001b[41mF\u001b[0mFG\n",
            "  (Right)\n",
            "SFFF\n",
            "FHFH\n",
            "FFFH\n",
            "HF\u001b[41mF\u001b[0mG\n",
            "  (Right)\n",
            "SFFF\n",
            "FHFH\n",
            "FFFH\n",
            "HFF\u001b[41mG\u001b[0m\n",
            "Number of steps: 5\n",
            "****************************************************\n",
            "EPISODE  1\n",
            "  (Down)\n",
            "SFFF\n",
            "\u001b[41mF\u001b[0mHFH\n",
            "FFFH\n",
            "HFFG\n",
            "  (Down)\n",
            "SFFF\n",
            "FHFH\n",
            "\u001b[41mF\u001b[0mFFH\n",
            "HFFG\n",
            "  (Right)\n",
            "SFFF\n",
            "FHFH\n",
            "F\u001b[41mF\u001b[0mFH\n",
            "HFFG\n",
            "  (Down)\n",
            "SFFF\n",
            "FHFH\n",
            "FFFH\n",
            "H\u001b[41mF\u001b[0mFG\n",
            "  (Right)\n",
            "SFFF\n",
            "FHFH\n",
            "FFFH\n",
            "HF\u001b[41mF\u001b[0mG\n",
            "  (Right)\n",
            "SFFF\n",
            "FHFH\n",
            "FFFH\n",
            "HFF\u001b[41mG\u001b[0m\n",
            "Number of steps: 5\n",
            "****************************************************\n",
            "EPISODE  2\n",
            "  (Down)\n",
            "SFFF\n",
            "\u001b[41mF\u001b[0mHFH\n",
            "FFFH\n",
            "HFFG\n",
            "  (Down)\n",
            "SFFF\n",
            "FHFH\n",
            "\u001b[41mF\u001b[0mFFH\n",
            "HFFG\n",
            "  (Right)\n",
            "SFFF\n",
            "FHFH\n",
            "F\u001b[41mF\u001b[0mFH\n",
            "HFFG\n",
            "  (Down)\n",
            "SFFF\n",
            "FHFH\n",
            "FFFH\n",
            "H\u001b[41mF\u001b[0mFG\n",
            "  (Right)\n",
            "SFFF\n",
            "FHFH\n",
            "FFFH\n",
            "HF\u001b[41mF\u001b[0mG\n",
            "  (Right)\n",
            "SFFF\n",
            "FHFH\n",
            "FFFH\n",
            "HFF\u001b[41mG\u001b[0m\n",
            "Number of steps: 5\n",
            "****************************************************\n",
            "EPISODE  3\n",
            "  (Down)\n",
            "SFFF\n",
            "\u001b[41mF\u001b[0mHFH\n",
            "FFFH\n",
            "HFFG\n",
            "  (Down)\n",
            "SFFF\n",
            "FHFH\n",
            "\u001b[41mF\u001b[0mFFH\n",
            "HFFG\n",
            "  (Right)\n",
            "SFFF\n",
            "FHFH\n",
            "F\u001b[41mF\u001b[0mFH\n",
            "HFFG\n",
            "  (Down)\n",
            "SFFF\n",
            "FHFH\n",
            "FFFH\n",
            "H\u001b[41mF\u001b[0mFG\n",
            "  (Right)\n",
            "SFFF\n",
            "FHFH\n",
            "FFFH\n",
            "HF\u001b[41mF\u001b[0mG\n",
            "  (Right)\n",
            "SFFF\n",
            "FHFH\n",
            "FFFH\n",
            "HFF\u001b[41mG\u001b[0m\n",
            "Number of steps: 5\n",
            "****************************************************\n",
            "EPISODE  4\n",
            "  (Down)\n",
            "SFFF\n",
            "\u001b[41mF\u001b[0mHFH\n",
            "FFFH\n",
            "HFFG\n",
            "  (Down)\n",
            "SFFF\n",
            "FHFH\n",
            "\u001b[41mF\u001b[0mFFH\n",
            "HFFG\n",
            "  (Right)\n",
            "SFFF\n",
            "FHFH\n",
            "F\u001b[41mF\u001b[0mFH\n",
            "HFFG\n",
            "  (Down)\n",
            "SFFF\n",
            "FHFH\n",
            "FFFH\n",
            "H\u001b[41mF\u001b[0mFG\n",
            "  (Right)\n",
            "SFFF\n",
            "FHFH\n",
            "FFFH\n",
            "HF\u001b[41mF\u001b[0mG\n",
            "  (Right)\n",
            "SFFF\n",
            "FHFH\n",
            "FFFH\n",
            "HFF\u001b[41mG\u001b[0m\n",
            "Number of steps: 5\n"
          ]
        }
      ]
    },
    {
      "cell_type": "code",
      "source": [],
      "metadata": {
        "id": "hmbou6yftHLY"
      },
      "execution_count": null,
      "outputs": []
    }
  ],
  "metadata": {
    "kernelspec": {
      "display_name": "Python [conda env:universe]",
      "language": "python",
      "name": "conda-env-universe-py"
    },
    "language_info": {
      "codemirror_mode": {
        "name": "ipython",
        "version": 3
      },
      "file_extension": ".py",
      "mimetype": "text/x-python",
      "name": "python",
      "nbconvert_exporter": "python",
      "pygments_lexer": "ipython3",
      "version": "3.5.4"
    },
    "colab": {
      "provenance": []
    }
  },
  "nbformat": 4,
  "nbformat_minor": 0
}