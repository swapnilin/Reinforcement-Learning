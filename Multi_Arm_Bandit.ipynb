{
  "cells": [
    {
      "cell_type": "markdown",
      "metadata": {
        "id": "cmkUcz8Yf28f"
      },
      "source": [
        "# Identifying Right AD Banner Using MAB"
      ]
    },
    {
      "cell_type": "markdown",
      "metadata": {
        "id": "uLL_E7yuf28g"
      },
      "source": [
        "\n",
        "\n",
        "Let us say you are running a website and you have five different banners for the same ad and you want to know which banner attracts the user? We model this problem statement as a bandit problem. Let us say these five banners are five bandits and we assign reward 1 if the user clicks the ad and reward 0 if the user does not click the ad.\n",
        "\n",
        "In a normal A/B testing, we perform complete exploration of all these five banners alone before deciding which banner is the best. But that will cost us lot of regret. Instead, we will use good exploration strategy for deciding which banner will give us most rewards (most clicks)\n",
        "\n",
        "The exploration strategy we will use for this will be Epsilon-Greedy policy."
      ]
    },
    {
      "cell_type": "markdown",
      "source": [
        "let's understand the problem:\n",
        "\n",
        "* You have 5 different ad banners\n",
        "* Each time a user sees a banner, they either click it (reward = 1) or don't (reward = 0)\n",
        "* Your goal is to find which banner gets the most clicks while also testing all banners enough to be confident in your choice"
      ],
      "metadata": {
        "id": "TA6La9pUjXOd"
      }
    },
    {
      "cell_type": "markdown",
      "metadata": {
        "collapsed": true,
        "id": "N1ekupYbf28h"
      },
      "source": [
        " First, let us import necessary libraries"
      ]
    },
    {
      "cell_type": "code",
      "execution_count": 2,
      "metadata": {
        "id": "WOLY3JDUf28h"
      },
      "outputs": [],
      "source": [
        "import numpy as np\n",
        "import pandas as pd\n",
        "import matplotlib.pyplot as plt\n",
        "%matplotlib inline\n",
        "import seaborn as sns"
      ]
    },
    {
      "cell_type": "markdown",
      "metadata": {
        "collapsed": true,
        "scrolled": true,
        "id": "XTZaLhDQf28i"
      },
      "source": [
        "Let us simulate a dataset with 5*10000 as shape where the column is the ad banner type and rows are either 0 or 1 i.e whether the ad has been clicked or not clicked by the user respectively\n",
        "\n"
      ]
    },
    {
      "cell_type": "code",
      "source": [
        "\"\"\"\n",
        "creates an array of 100,000 random integers where:\n",
        "\n",
        "The first parameter 0 is the lower bound (inclusive)\n",
        "The second parameter 2 is the upper bound (exclusive)\n",
        "The third parameter 100000 is how many numbers to generate\n",
        "\n",
        "So this generates 100,000 random numbers that can only be 0 or 1, simulating ad clicks where:\n",
        "\n",
        "0 represents \"user didn't click the ad\"\n",
        "1 represents \"user clicked the ad\"\n",
        "\n",
        "\"\"\"\n",
        "np.random.randint(0,2,100000)"
      ],
      "metadata": {
        "colab": {
          "base_uri": "https://localhost:8080/"
        },
        "id": "TwrRnBIFtDEN",
        "outputId": "98c28927-b6c8-411f-8b81-16409b4fcdd4"
      },
      "execution_count": 7,
      "outputs": [
        {
          "output_type": "execute_result",
          "data": {
            "text/plain": [
              "array([0, 1, 1, ..., 1, 1, 1])"
            ]
          },
          "metadata": {},
          "execution_count": 7
        }
      ]
    },
    {
      "cell_type": "code",
      "execution_count": 3,
      "metadata": {
        "collapsed": true,
        "id": "dS1jw-mQf28i"
      },
      "outputs": [],
      "source": [
        "\"\"\"\n",
        "This creates fake data where each column represents a banner, and each row represents whether a user clicked (1) or didn't click (0).\n",
        "In real life, you'd collect this data from actual user interactions.\n",
        "\"\"\"\n",
        "df = pd.DataFrame()\n",
        "df['Banner_type_0'] = np.random.randint(0,2,100000)\n",
        "df['Banner_type_1'] = np.random.randint(0,2,100000)\n",
        "df['Banner_type_2'] = np.random.randint(0,2,100000)\n",
        "df['Banner_type_3'] = np.random.randint(0,2,100000)\n",
        "df['Banner_type_4'] = np.random.randint(0,2,100000)"
      ]
    },
    {
      "cell_type": "code",
      "source": [
        "df.shape"
      ],
      "metadata": {
        "colab": {
          "base_uri": "https://localhost:8080/"
        },
        "id": "j9QRP9CxtkIR",
        "outputId": "a7c64408-b48a-4897-c664-0988910fb77d"
      },
      "execution_count": 6,
      "outputs": [
        {
          "output_type": "execute_result",
          "data": {
            "text/plain": [
              "(100000, 5)"
            ]
          },
          "metadata": {},
          "execution_count": 6
        }
      ]
    },
    {
      "cell_type": "code",
      "execution_count": 4,
      "metadata": {
        "scrolled": true,
        "colab": {
          "base_uri": "https://localhost:8080/",
          "height": 359
        },
        "id": "XZNZ6NzXf28j",
        "outputId": "944790ec-9928-4d91-dd67-436510ff6e1b"
      },
      "outputs": [
        {
          "output_type": "execute_result",
          "data": {
            "text/plain": [
              "   Banner_type_0  Banner_type_1  Banner_type_2  Banner_type_3  Banner_type_4\n",
              "0              1              1              1              0              0\n",
              "1              0              0              0              1              0\n",
              "2              0              0              1              1              0\n",
              "3              1              1              0              0              1\n",
              "4              0              1              1              0              1\n",
              "5              1              0              0              1              0\n",
              "6              1              0              1              1              0\n",
              "7              1              1              1              1              0\n",
              "8              1              1              0              0              0\n",
              "9              1              0              1              0              0"
            ],
            "text/html": [
              "\n",
              "  <div id=\"df-c2ff3dcd-c2e5-46c8-bfcd-177a79e09323\" class=\"colab-df-container\">\n",
              "    <div>\n",
              "<style scoped>\n",
              "    .dataframe tbody tr th:only-of-type {\n",
              "        vertical-align: middle;\n",
              "    }\n",
              "\n",
              "    .dataframe tbody tr th {\n",
              "        vertical-align: top;\n",
              "    }\n",
              "\n",
              "    .dataframe thead th {\n",
              "        text-align: right;\n",
              "    }\n",
              "</style>\n",
              "<table border=\"1\" class=\"dataframe\">\n",
              "  <thead>\n",
              "    <tr style=\"text-align: right;\">\n",
              "      <th></th>\n",
              "      <th>Banner_type_0</th>\n",
              "      <th>Banner_type_1</th>\n",
              "      <th>Banner_type_2</th>\n",
              "      <th>Banner_type_3</th>\n",
              "      <th>Banner_type_4</th>\n",
              "    </tr>\n",
              "  </thead>\n",
              "  <tbody>\n",
              "    <tr>\n",
              "      <th>0</th>\n",
              "      <td>1</td>\n",
              "      <td>1</td>\n",
              "      <td>1</td>\n",
              "      <td>0</td>\n",
              "      <td>0</td>\n",
              "    </tr>\n",
              "    <tr>\n",
              "      <th>1</th>\n",
              "      <td>0</td>\n",
              "      <td>0</td>\n",
              "      <td>0</td>\n",
              "      <td>1</td>\n",
              "      <td>0</td>\n",
              "    </tr>\n",
              "    <tr>\n",
              "      <th>2</th>\n",
              "      <td>0</td>\n",
              "      <td>0</td>\n",
              "      <td>1</td>\n",
              "      <td>1</td>\n",
              "      <td>0</td>\n",
              "    </tr>\n",
              "    <tr>\n",
              "      <th>3</th>\n",
              "      <td>1</td>\n",
              "      <td>1</td>\n",
              "      <td>0</td>\n",
              "      <td>0</td>\n",
              "      <td>1</td>\n",
              "    </tr>\n",
              "    <tr>\n",
              "      <th>4</th>\n",
              "      <td>0</td>\n",
              "      <td>1</td>\n",
              "      <td>1</td>\n",
              "      <td>0</td>\n",
              "      <td>1</td>\n",
              "    </tr>\n",
              "    <tr>\n",
              "      <th>5</th>\n",
              "      <td>1</td>\n",
              "      <td>0</td>\n",
              "      <td>0</td>\n",
              "      <td>1</td>\n",
              "      <td>0</td>\n",
              "    </tr>\n",
              "    <tr>\n",
              "      <th>6</th>\n",
              "      <td>1</td>\n",
              "      <td>0</td>\n",
              "      <td>1</td>\n",
              "      <td>1</td>\n",
              "      <td>0</td>\n",
              "    </tr>\n",
              "    <tr>\n",
              "      <th>7</th>\n",
              "      <td>1</td>\n",
              "      <td>1</td>\n",
              "      <td>1</td>\n",
              "      <td>1</td>\n",
              "      <td>0</td>\n",
              "    </tr>\n",
              "    <tr>\n",
              "      <th>8</th>\n",
              "      <td>1</td>\n",
              "      <td>1</td>\n",
              "      <td>0</td>\n",
              "      <td>0</td>\n",
              "      <td>0</td>\n",
              "    </tr>\n",
              "    <tr>\n",
              "      <th>9</th>\n",
              "      <td>1</td>\n",
              "      <td>0</td>\n",
              "      <td>1</td>\n",
              "      <td>0</td>\n",
              "      <td>0</td>\n",
              "    </tr>\n",
              "  </tbody>\n",
              "</table>\n",
              "</div>\n",
              "    <div class=\"colab-df-buttons\">\n",
              "\n",
              "  <div class=\"colab-df-container\">\n",
              "    <button class=\"colab-df-convert\" onclick=\"convertToInteractive('df-c2ff3dcd-c2e5-46c8-bfcd-177a79e09323')\"\n",
              "            title=\"Convert this dataframe to an interactive table.\"\n",
              "            style=\"display:none;\">\n",
              "\n",
              "  <svg xmlns=\"http://www.w3.org/2000/svg\" height=\"24px\" viewBox=\"0 -960 960 960\">\n",
              "    <path d=\"M120-120v-720h720v720H120Zm60-500h600v-160H180v160Zm220 220h160v-160H400v160Zm0 220h160v-160H400v160ZM180-400h160v-160H180v160Zm440 0h160v-160H620v160ZM180-180h160v-160H180v160Zm440 0h160v-160H620v160Z\"/>\n",
              "  </svg>\n",
              "    </button>\n",
              "\n",
              "  <style>\n",
              "    .colab-df-container {\n",
              "      display:flex;\n",
              "      gap: 12px;\n",
              "    }\n",
              "\n",
              "    .colab-df-convert {\n",
              "      background-color: #E8F0FE;\n",
              "      border: none;\n",
              "      border-radius: 50%;\n",
              "      cursor: pointer;\n",
              "      display: none;\n",
              "      fill: #1967D2;\n",
              "      height: 32px;\n",
              "      padding: 0 0 0 0;\n",
              "      width: 32px;\n",
              "    }\n",
              "\n",
              "    .colab-df-convert:hover {\n",
              "      background-color: #E2EBFA;\n",
              "      box-shadow: 0px 1px 2px rgba(60, 64, 67, 0.3), 0px 1px 3px 1px rgba(60, 64, 67, 0.15);\n",
              "      fill: #174EA6;\n",
              "    }\n",
              "\n",
              "    .colab-df-buttons div {\n",
              "      margin-bottom: 4px;\n",
              "    }\n",
              "\n",
              "    [theme=dark] .colab-df-convert {\n",
              "      background-color: #3B4455;\n",
              "      fill: #D2E3FC;\n",
              "    }\n",
              "\n",
              "    [theme=dark] .colab-df-convert:hover {\n",
              "      background-color: #434B5C;\n",
              "      box-shadow: 0px 1px 3px 1px rgba(0, 0, 0, 0.15);\n",
              "      filter: drop-shadow(0px 1px 2px rgba(0, 0, 0, 0.3));\n",
              "      fill: #FFFFFF;\n",
              "    }\n",
              "  </style>\n",
              "\n",
              "    <script>\n",
              "      const buttonEl =\n",
              "        document.querySelector('#df-c2ff3dcd-c2e5-46c8-bfcd-177a79e09323 button.colab-df-convert');\n",
              "      buttonEl.style.display =\n",
              "        google.colab.kernel.accessAllowed ? 'block' : 'none';\n",
              "\n",
              "      async function convertToInteractive(key) {\n",
              "        const element = document.querySelector('#df-c2ff3dcd-c2e5-46c8-bfcd-177a79e09323');\n",
              "        const dataTable =\n",
              "          await google.colab.kernel.invokeFunction('convertToInteractive',\n",
              "                                                    [key], {});\n",
              "        if (!dataTable) return;\n",
              "\n",
              "        const docLinkHtml = 'Like what you see? Visit the ' +\n",
              "          '<a target=\"_blank\" href=https://colab.research.google.com/notebooks/data_table.ipynb>data table notebook</a>'\n",
              "          + ' to learn more about interactive tables.';\n",
              "        element.innerHTML = '';\n",
              "        dataTable['output_type'] = 'display_data';\n",
              "        await google.colab.output.renderOutput(dataTable, element);\n",
              "        const docLink = document.createElement('div');\n",
              "        docLink.innerHTML = docLinkHtml;\n",
              "        element.appendChild(docLink);\n",
              "      }\n",
              "    </script>\n",
              "  </div>\n",
              "\n",
              "\n",
              "<div id=\"df-17934a14-1d5e-429f-bd35-b4dc046c9467\">\n",
              "  <button class=\"colab-df-quickchart\" onclick=\"quickchart('df-17934a14-1d5e-429f-bd35-b4dc046c9467')\"\n",
              "            title=\"Suggest charts\"\n",
              "            style=\"display:none;\">\n",
              "\n",
              "<svg xmlns=\"http://www.w3.org/2000/svg\" height=\"24px\"viewBox=\"0 0 24 24\"\n",
              "     width=\"24px\">\n",
              "    <g>\n",
              "        <path d=\"M19 3H5c-1.1 0-2 .9-2 2v14c0 1.1.9 2 2 2h14c1.1 0 2-.9 2-2V5c0-1.1-.9-2-2-2zM9 17H7v-7h2v7zm4 0h-2V7h2v10zm4 0h-2v-4h2v4z\"/>\n",
              "    </g>\n",
              "</svg>\n",
              "  </button>\n",
              "\n",
              "<style>\n",
              "  .colab-df-quickchart {\n",
              "      --bg-color: #E8F0FE;\n",
              "      --fill-color: #1967D2;\n",
              "      --hover-bg-color: #E2EBFA;\n",
              "      --hover-fill-color: #174EA6;\n",
              "      --disabled-fill-color: #AAA;\n",
              "      --disabled-bg-color: #DDD;\n",
              "  }\n",
              "\n",
              "  [theme=dark] .colab-df-quickchart {\n",
              "      --bg-color: #3B4455;\n",
              "      --fill-color: #D2E3FC;\n",
              "      --hover-bg-color: #434B5C;\n",
              "      --hover-fill-color: #FFFFFF;\n",
              "      --disabled-bg-color: #3B4455;\n",
              "      --disabled-fill-color: #666;\n",
              "  }\n",
              "\n",
              "  .colab-df-quickchart {\n",
              "    background-color: var(--bg-color);\n",
              "    border: none;\n",
              "    border-radius: 50%;\n",
              "    cursor: pointer;\n",
              "    display: none;\n",
              "    fill: var(--fill-color);\n",
              "    height: 32px;\n",
              "    padding: 0;\n",
              "    width: 32px;\n",
              "  }\n",
              "\n",
              "  .colab-df-quickchart:hover {\n",
              "    background-color: var(--hover-bg-color);\n",
              "    box-shadow: 0 1px 2px rgba(60, 64, 67, 0.3), 0 1px 3px 1px rgba(60, 64, 67, 0.15);\n",
              "    fill: var(--button-hover-fill-color);\n",
              "  }\n",
              "\n",
              "  .colab-df-quickchart-complete:disabled,\n",
              "  .colab-df-quickchart-complete:disabled:hover {\n",
              "    background-color: var(--disabled-bg-color);\n",
              "    fill: var(--disabled-fill-color);\n",
              "    box-shadow: none;\n",
              "  }\n",
              "\n",
              "  .colab-df-spinner {\n",
              "    border: 2px solid var(--fill-color);\n",
              "    border-color: transparent;\n",
              "    border-bottom-color: var(--fill-color);\n",
              "    animation:\n",
              "      spin 1s steps(1) infinite;\n",
              "  }\n",
              "\n",
              "  @keyframes spin {\n",
              "    0% {\n",
              "      border-color: transparent;\n",
              "      border-bottom-color: var(--fill-color);\n",
              "      border-left-color: var(--fill-color);\n",
              "    }\n",
              "    20% {\n",
              "      border-color: transparent;\n",
              "      border-left-color: var(--fill-color);\n",
              "      border-top-color: var(--fill-color);\n",
              "    }\n",
              "    30% {\n",
              "      border-color: transparent;\n",
              "      border-left-color: var(--fill-color);\n",
              "      border-top-color: var(--fill-color);\n",
              "      border-right-color: var(--fill-color);\n",
              "    }\n",
              "    40% {\n",
              "      border-color: transparent;\n",
              "      border-right-color: var(--fill-color);\n",
              "      border-top-color: var(--fill-color);\n",
              "    }\n",
              "    60% {\n",
              "      border-color: transparent;\n",
              "      border-right-color: var(--fill-color);\n",
              "    }\n",
              "    80% {\n",
              "      border-color: transparent;\n",
              "      border-right-color: var(--fill-color);\n",
              "      border-bottom-color: var(--fill-color);\n",
              "    }\n",
              "    90% {\n",
              "      border-color: transparent;\n",
              "      border-bottom-color: var(--fill-color);\n",
              "    }\n",
              "  }\n",
              "</style>\n",
              "\n",
              "  <script>\n",
              "    async function quickchart(key) {\n",
              "      const quickchartButtonEl =\n",
              "        document.querySelector('#' + key + ' button');\n",
              "      quickchartButtonEl.disabled = true;  // To prevent multiple clicks.\n",
              "      quickchartButtonEl.classList.add('colab-df-spinner');\n",
              "      try {\n",
              "        const charts = await google.colab.kernel.invokeFunction(\n",
              "            'suggestCharts', [key], {});\n",
              "      } catch (error) {\n",
              "        console.error('Error during call to suggestCharts:', error);\n",
              "      }\n",
              "      quickchartButtonEl.classList.remove('colab-df-spinner');\n",
              "      quickchartButtonEl.classList.add('colab-df-quickchart-complete');\n",
              "    }\n",
              "    (() => {\n",
              "      let quickchartButtonEl =\n",
              "        document.querySelector('#df-17934a14-1d5e-429f-bd35-b4dc046c9467 button');\n",
              "      quickchartButtonEl.style.display =\n",
              "        google.colab.kernel.accessAllowed ? 'block' : 'none';\n",
              "    })();\n",
              "  </script>\n",
              "</div>\n",
              "\n",
              "    </div>\n",
              "  </div>\n"
            ],
            "application/vnd.google.colaboratory.intrinsic+json": {
              "type": "dataframe",
              "variable_name": "df",
              "summary": "{\n  \"name\": \"df\",\n  \"rows\": 100000,\n  \"fields\": [\n    {\n      \"column\": \"Banner_type_0\",\n      \"properties\": {\n        \"dtype\": \"number\",\n        \"std\": 0,\n        \"min\": 0,\n        \"max\": 1,\n        \"num_unique_values\": 2,\n        \"samples\": [\n          0,\n          1\n        ],\n        \"semantic_type\": \"\",\n        \"description\": \"\"\n      }\n    },\n    {\n      \"column\": \"Banner_type_1\",\n      \"properties\": {\n        \"dtype\": \"number\",\n        \"std\": 0,\n        \"min\": 0,\n        \"max\": 1,\n        \"num_unique_values\": 2,\n        \"samples\": [\n          0,\n          1\n        ],\n        \"semantic_type\": \"\",\n        \"description\": \"\"\n      }\n    },\n    {\n      \"column\": \"Banner_type_2\",\n      \"properties\": {\n        \"dtype\": \"number\",\n        \"std\": 0,\n        \"min\": 0,\n        \"max\": 1,\n        \"num_unique_values\": 2,\n        \"samples\": [\n          0,\n          1\n        ],\n        \"semantic_type\": \"\",\n        \"description\": \"\"\n      }\n    },\n    {\n      \"column\": \"Banner_type_3\",\n      \"properties\": {\n        \"dtype\": \"number\",\n        \"std\": 0,\n        \"min\": 0,\n        \"max\": 1,\n        \"num_unique_values\": 2,\n        \"samples\": [\n          1,\n          0\n        ],\n        \"semantic_type\": \"\",\n        \"description\": \"\"\n      }\n    },\n    {\n      \"column\": \"Banner_type_4\",\n      \"properties\": {\n        \"dtype\": \"number\",\n        \"std\": 0,\n        \"min\": 0,\n        \"max\": 1,\n        \"num_unique_values\": 2,\n        \"samples\": [\n          1,\n          0\n        ],\n        \"semantic_type\": \"\",\n        \"description\": \"\"\n      }\n    }\n  ]\n}"
            }
          },
          "metadata": {},
          "execution_count": 4
        }
      ],
      "source": [
        "df.head(10)"
      ]
    },
    {
      "cell_type": "markdown",
      "metadata": {
        "id": "uPmwt_Znf28j"
      },
      "source": [
        "First, let us initialize necessary variables"
      ]
    },
    {
      "cell_type": "code",
      "execution_count": 8,
      "metadata": {
        "collapsed": true,
        "id": "hGbEQF5Hf28k"
      },
      "outputs": [],
      "source": [
        "# Initialize tracking variables\n",
        "num_banner = 5\n",
        "no_of_iterations = 100000\n",
        "banner_selected = []    # Keeps track of which banners were selected\n",
        "count = np.zeros(num_banner)    # Counts how many times each banner was shown\n",
        "Q = np.zeros(num_banner)        # Stores the average reward (click rate) for each banner\n",
        "sum_rewards = np.zeros(num_banner)  # Stores total rewards for each banner"
      ]
    },
    {
      "cell_type": "markdown",
      "metadata": {
        "id": "tl6dmmuff28k"
      },
      "source": [
        "Now we define the epsilon greedy policy. This is the heart of the algorithm.\n",
        "\n",
        "For each decision:\n",
        "\n",
        "* With probability epsilon (in your case 0.5 or 50%), it randomly tries a banner (exploration)\n",
        "* Otherwise, it picks the banner with the highest average reward so far (exploitation)"
      ]
    },
    {
      "cell_type": "code",
      "execution_count": 9,
      "metadata": {
        "collapsed": true,
        "id": "0BUIeukef28k"
      },
      "outputs": [],
      "source": [
        "def epsilon_greedy(epsilon):\n",
        "\n",
        "    random_value = np.random.random()\n",
        "    choose_random = random_value < epsilon\n",
        "\n",
        "    if choose_random:\n",
        "        action =  np.random.choice(num_banner)\n",
        "    else:\n",
        "        action = np.argmax(Q)\n",
        "\n",
        "    return action\n"
      ]
    },
    {
      "cell_type": "markdown",
      "source": [
        "If epsilon = 0.8:\n",
        "\n",
        "* 80% of the time (when random_value < 0.8), it will EXPLORE by choosing a random banner\n",
        "* 20% of the time, it will EXPLOIT by choosing the best performing banner\n",
        "\n",
        "If epsilon = 0.2:\n",
        "\n",
        "* 20% of the time, it will EXPLORE\n",
        "* 80% of the time, it will EXPLOIT\n",
        "\n",
        "So:\n",
        "\n",
        "* High epsilon (like 0.8) = More exploration, less exploitation\n",
        "* Low epsilon (like 0.2) = Less exploration, more exploitation\n",
        "* epsilon = 0.5 (what we have set later) = Equal exploration and exploitation"
      ],
      "metadata": {
        "id": "8uxo4A_IwVkb"
      }
    },
    {
      "cell_type": "code",
      "execution_count": 21,
      "metadata": {
        "collapsed": true,
        "id": "qNYqlpuQf28k"
      },
      "outputs": [],
      "source": [
        "for i in range(no_of_iterations):\n",
        "\n",
        "    # select the banner using epsilon greedy policy\n",
        "    banner = epsilon_greedy(0.5)\n",
        "\n",
        "    # get the reward\n",
        "    reward = df.values[i, banner]\n",
        "\n",
        "    # update the selected banner count\n",
        "    count[banner] += 1\n",
        "\n",
        "    # sum the rewards obtained by that banner\n",
        "    sum_rewards[banner]+=reward\n",
        "\n",
        "    # calculate the Q value of the banner\n",
        "    Q[banner] = sum_rewards[banner]/count[banner]\n",
        "\n",
        "    banner_selected.append(banner)"
      ]
    },
    {
      "cell_type": "markdown",
      "source": [
        "This loop:\n",
        "\n",
        "1. Selects a banner using epsilon-greedy strategy\n",
        "2. Gets the reward (whether user clicked)\n",
        "3. Updates our statistics about that banner's performance\n",
        "4. Keeps track of which banner was selected"
      ],
      "metadata": {
        "id": "l4T302qrwtfl"
      }
    },
    {
      "cell_type": "markdown",
      "metadata": {
        "id": "dus7kmpRf28k"
      },
      "source": [
        "We can plot and see which banner type gives us most clicks(rewards)"
      ]
    },
    {
      "cell_type": "code",
      "execution_count": 22,
      "metadata": {
        "colab": {
          "base_uri": "https://localhost:8080/",
          "height": 634
        },
        "id": "YvyKbfQAf28k",
        "outputId": "00b3d82a-b505-4834-93f8-151950456d54"
      },
      "outputs": [
        {
          "output_type": "stream",
          "name": "stderr",
          "text": [
            "<ipython-input-22-55031a37e219>:1: UserWarning: \n",
            "\n",
            "`distplot` is a deprecated function and will be removed in seaborn v0.14.0.\n",
            "\n",
            "Please adapt your code to use either `displot` (a figure-level function with\n",
            "similar flexibility) or `histplot` (an axes-level function for histograms).\n",
            "\n",
            "For a guide to updating your code to use the new functions, please see\n",
            "https://gist.github.com/mwaskom/de44147ed2974457ad6372750bbe5751\n",
            "\n",
            "  sns.distplot(banner_selected)\n"
          ]
        },
        {
          "output_type": "execute_result",
          "data": {
            "text/plain": [
              "<Axes: ylabel='Density'>"
            ]
          },
          "metadata": {},
          "execution_count": 22
        },
        {
          "output_type": "display_data",
          "data": {
            "text/plain": [
              "<Figure size 640x480 with 1 Axes>"
            ],
            "image/png": "[encoded data removed]"
          },
          "metadata": {}
        }
      ],
      "source": [
        "sns.distplot(banner_selected)"
      ]
    },
    {
      "cell_type": "code",
      "source": [
        "# Let's test this strategy with epsilon 0.2, so that it exploits 80% of the time.\n",
        "for i in range(no_of_iterations):\n",
        "\n",
        "    # select the banner using epsilon greedy policy\n",
        "    banner = epsilon_greedy(0.2)\n",
        "\n",
        "    # get the reward\n",
        "    reward = df.values[i, banner]\n",
        "\n",
        "    # update the selected banner count\n",
        "    count[banner] += 1\n",
        "\n",
        "    # sum the rewards obtained by that banner\n",
        "    sum_rewards[banner]+=reward\n",
        "\n",
        "    # calculate the Q value of the banner\n",
        "    Q[banner] = sum_rewards[banner]/count[banner]\n",
        "\n",
        "    banner_selected.append(banner)"
      ],
      "metadata": {
        "id": "VXbOfTVX3j2N"
      },
      "execution_count": 23,
      "outputs": []
    },
    {
      "cell_type": "code",
      "source": [
        "sns.distplot(banner_selected)"
      ],
      "metadata": {
        "colab": {
          "base_uri": "https://localhost:8080/",
          "height": 634
        },
        "id": "KcmpbEvH3zPc",
        "outputId": "854c2bca-9fe7-47c8-bcb8-173443b1cd3d"
      },
      "execution_count": 24,
      "outputs": [
        {
          "output_type": "stream",
          "name": "stderr",
          "text": [
            "<ipython-input-24-55031a37e219>:1: UserWarning: \n",
            "\n",
            "`distplot` is a deprecated function and will be removed in seaborn v0.14.0.\n",
            "\n",
            "Please adapt your code to use either `displot` (a figure-level function with\n",
            "similar flexibility) or `histplot` (an axes-level function for histograms).\n",
            "\n",
            "For a guide to updating your code to use the new functions, please see\n",
            "https://gist.github.com/mwaskom/de44147ed2974457ad6372750bbe5751\n",
            "\n",
            "  sns.distplot(banner_selected)\n"
          ]
        },
        {
          "output_type": "execute_result",
          "data": {
            "text/plain": [
              "<Axes: ylabel='Density'>"
            ]
          },
          "metadata": {},
          "execution_count": 24
        },
        {
          "output_type": "display_data",
          "data": {
            "text/plain": [
              "<Figure size 640x480 with 1 Axes>"
            ],
            "image/png": "[encoded data removed]"
          },
          "metadata": {}
        }
      ]
    },
    {
      "cell_type": "code",
      "source": [],
      "metadata": {
        "id": "TROnM4oN4Cp6"
      },
      "execution_count": null,
      "outputs": []
    },
    {
      "cell_type": "markdown",
      "source": [
        "#### So how is MAB better than A/B testing"
      ],
      "metadata": {
        "id": "dVmWcANX4IAl"
      }
    },
    {
      "cell_type": "markdown",
      "source": [
        "**A/B Testing Process:**\n",
        "\n",
        "In traditional A/B testing, you'd show all banners equally while collecting data\n",
        "\n",
        "At the END of the process, You'll know which banner performed best overall (like A/B testing)\n",
        "\n",
        "Every time you show a poor-performing banner, you're losing potential clicks (and revenue)\n",
        "\n",
        "\n",
        "1. Split Phase\n",
        "\n",
        "* Divide your traffic equally among all variations (banners)\n",
        "* Each banner gets exactly the same amount of exposure\n",
        "* Continue this for a predetermined period\n",
        "\n",
        "\n",
        "2. Analysis Phase\n",
        "\n",
        "* After collecting sufficient data, analyze results\n",
        "* Choose the best performing banner\n",
        "* Only after analysis do you switch to using the winner\n",
        "\n",
        "\n",
        "3. Limitations\n",
        "\n",
        "* Lost opportunities during testing (showing poor performers equally)\n",
        "* Can't adapt during the test\n",
        "* All variants must complete the test period\n"
      ],
      "metadata": {
        "id": "LzlU2jiD5EPl"
      }
    },
    {
      "cell_type": "markdown",
      "source": [
        "**Multi-Armed Bandit Process:**\n",
        "\n",
        "1. Simultaneous Exploration & Exploitation\n",
        "\n",
        "* Starts showing all banners initially\n",
        "* Gradually favors better-performing banners\n",
        "* Continues testing other options with decreasing frequency\n",
        "\n",
        "\n",
        "2. Adaptive Learning\n",
        "\n",
        "* Updates performance metrics after each user interaction\n",
        "* Adjusts banner selection probabilities in real-time\n",
        "* Uses strategies like epsilon-greedy to balance exploration/exploitation\n",
        "\n",
        "\n",
        "3. Advantages\n",
        "\n",
        "* Reduces lost opportunities (shows better performers more often)\n",
        "* Adapts to changing user preferences"
      ],
      "metadata": {
        "id": "Wbju4Zcs6Lz-"
      }
    },
    {
      "cell_type": "markdown",
      "source": [
        "For e.g.\n",
        "\n",
        "If you have 5 banners and 10,000 visitors:\n",
        "\n",
        "A/B Testing:\n",
        "- Each banner gets exactly 2,000 views\n",
        "- If Banner A has 30% Click Through Rate (CTR) and others 10%, you \"waste\" 8,000 views and risk of losing the customers.\n",
        "\n",
        "MAB:\n",
        "- Might give Banner-0 5,000 views once it discovers it performs better\n",
        "- Other banners share remaining 5,000 views\n",
        "- Results in more total clicks while still testing all options"
      ],
      "metadata": {
        "id": "F__9lvQb6fy2"
      }
    },
    {
      "cell_type": "markdown",
      "source": [
        "The Next step to this is to add context.\n",
        "\n",
        "Note, the banner preference varies from user to user. User A likes banner type 1, but user B might like banner type 3. So we have to personalize ad banners according to user behavior. To achieve this we can introduce a new bandit type called **contextual bandits.**\n"
      ],
      "metadata": {
        "id": "8aig_AJe7Ifl"
      }
    }
  ],
  "metadata": {
    "kernelspec": {
      "display_name": "Python [conda env:universe]",
      "language": "python",
      "name": "conda-env-universe-py"
    },
    "language_info": {
      "codemirror_mode": {
        "name": "ipython",
        "version": 3
      },
      "file_extension": ".py",
      "mimetype": "text/x-python",
      "name": "python",
      "nbconvert_exporter": "python",
      "pygments_lexer": "ipython3",
      "version": "3.5.4"
    },
    "colab": {
      "provenance": []
    }
  },
  "nbformat": 4,
  "nbformat_minor": 0
}